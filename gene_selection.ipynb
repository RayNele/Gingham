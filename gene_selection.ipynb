{
 "cells": [
  {
   "cell_type": "code",
   "execution_count": 1,
   "metadata": {},
   "outputs": [],
   "source": [
    "# this function will select X best genes (number_of_genes) from (data) in terms of chi square score\n",
    "# and split the data based on test_percentage (default 0.1)\n",
    "# with a random seed value (default 43)\n",
    "\n",
    "# will also one-hot encode the output data \n",
    "# returns x and y arrays for training and testing, total of 4\n",
    "\n",
    "#changelog\n",
    "# v.2.0\n",
    "\n",
    "# changed from tensorflow onehot to sklearn onehot since tensorflow isn't compatible with all cpu"
   ]
  },
  {
   "cell_type": "code",
   "execution_count": 3,
   "metadata": {},
   "outputs": [],
   "source": [
    "import numpy as np\n",
    "import pandas as pd\n",
    "from sklearn.feature_selection import SelectKBest\n",
    "from sklearn.feature_selection import chi2\n",
    "from sklearn.model_selection import train_test_split\n",
    "from sklearn.preprocessing import LabelEncoder, OneHotEncoder"
   ]
  },
  {
   "cell_type": "code",
   "execution_count": 1,
   "metadata": {},
   "outputs": [],
   "source": [
    "def select(data, number_of_genes, test_percentage=0.1, seed=43):\n",
    "    #convert characteristics into numbers for training\n",
    "\n",
    "    #define dictionary\n",
    "    infection = {'non-infectious illness': 0, 'bacterial': 1, 'viral': 2}\n",
    "    #create numpy array \n",
    "    characteristics = np.array([infection[item] for item in data.Sample_characteristics_ch1], dtype=float)\n",
    "\n",
    "\n",
    "    #has to be one-hot encoded for categorical crossentropy to work....\n",
    "    characteristics = characteristics.reshape(-1, 1)\n",
    "    ohe = OneHotEncoder()\n",
    "    characteristics = ohe.fit_transform(characteristics).toarray()\n",
    "    \n",
    "    #returns list of keys in data which represent genes (with their affymetrix genechip scanner names)\n",
    "    genes = [gene for gene in data.keys() if not('Sample' in gene or 'ID_REF' in gene)]\n",
    "           \n",
    "    #take only dict entries related to those keys\n",
    "    expression = np.array(data[genes], dtype=float)\n",
    "    expression = np.array([gene for gene in expression if any([i in str(gene) for i in '0123456789'])], dtype=float)\n",
    "    \n",
    "    # here we choose the best X number of genes which contribute to the diagnosis\n",
    "\n",
    "    test = SelectKBest(score_func=chi2, k=number_of_genes)\n",
    "    fit = test.fit(expression,characteristics)\n",
    "    # print(fit.scores_)\n",
    "    # print(len(fit.scores_))\n",
    "    features = fit.transform(expression)\n",
    "    \n",
    "    # print WHICH genes it is\n",
    "    dfscores = pd.DataFrame(fit.scores_)\n",
    "\n",
    "    dfcolumns = pd.DataFrame(genes)\n",
    "    #concat two dataframes for better visualization \n",
    "    featureScores = pd.concat([dfcolumns,dfscores],axis=1)\n",
    "    featureScores.columns = ['Gene','Score']  #naming the dataframe columns\n",
    "    print(featureScores.nlargest(number_of_genes,'Score'))  #print 20 best features\n",
    "           \n",
    "    #splitty\n",
    "    x_train, x_test, y_train, y_test = train_test_split(features, characteristics, test_size=test_percentage, random_state=seed)\n",
    "    \n",
    "    #transpose these to be (nx,m) nx = features, m = samples\n",
    "    x_train, x_test, y_train, y_test = x_train.T, x_test.T, y_train.T, y_test.T\n",
    "    \n",
    "    return x_train, y_train, x_test, y_test\n"
   ]
  },
  {
   "cell_type": "code",
   "execution_count": null,
   "metadata": {},
   "outputs": [],
   "source": []
  }
 ],
 "metadata": {
  "kernelspec": {
   "display_name": "Python 3",
   "language": "python",
   "name": "python3"
  },
  "language_info": {
   "codemirror_mode": {
    "name": "ipython",
    "version": 3
   },
   "file_extension": ".py",
   "mimetype": "text/x-python",
   "name": "python",
   "nbconvert_exporter": "python",
   "pygments_lexer": "ipython3",
   "version": "3.7.4"
  }
 },
 "nbformat": 4,
 "nbformat_minor": 2
}
