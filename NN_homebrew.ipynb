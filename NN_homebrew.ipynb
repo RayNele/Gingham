{
 "cells": [
  {
   "cell_type": "code",
   "execution_count": 3,
   "metadata": {},
   "outputs": [],
   "source": [
    "#Trains neural network using GSE63990_series_matrix.txt and homebrew code"
   ]
  },
  {
   "cell_type": "code",
   "execution_count": 1,
   "metadata": {},
   "outputs": [
    {
     "name": "stdout",
     "output_type": "stream",
     "text": [
      "importing Jupyter notebook from data_cleaner.ipynb\n",
      "importing data_cleaner modules...\n",
      "done\n",
      "importing Jupyter notebook from MLP_Clean.ipynb\n",
      "importing Jupyter notebook from gene_selection.ipynb\n"
     ]
    }
   ],
   "source": [
    "#imports all needed modules \n",
    "import NotebookFinder\n",
    "import data_cleaner as dclean\n",
    "import numpy as np\n",
    "import pandas as pd\n",
    "import MLP_Clean as NN\n",
    "import gene_selection as gs\n",
    "\n",
    "#import feature selection modules\n",
    "from sklearn.feature_selection import chi2"
   ]
  },
  {
   "cell_type": "code",
   "execution_count": 2,
   "metadata": {},
   "outputs": [
    {
     "name": "stdout",
     "output_type": "stream",
     "text": [
      "reading file...\n",
      "Dropping Series_title\n",
      "Dropping Series_geo_accession\n",
      "Dropping Series_status\n",
      "Dropping Series_submission_date\n",
      "Dropping Series_last_update_date\n",
      "Dropping Series_pubmed_id\n",
      "Dropping Series_summary\n",
      "Dropping Series_overall_design\n",
      "Dropping Series_type\n",
      "Dropping Series_contributor\n",
      "Dropping Series_sample_id\n",
      "Dropping Series_contact_name\n",
      "Dropping Series_contact_email\n",
      "Dropping Series_contact_department\n",
      "Dropping Series_contact_institute\n",
      "Dropping Series_contact_address\n",
      "Dropping Series_contact_city\n",
      "Dropping Series_contact_state\n",
      "Dropping Series_contact_zip/postal_code\n",
      "Dropping Series_contact_country\n",
      "Dropping Series_supplementary_file\n",
      "Dropping Series_platform_id\n",
      "Dropping Series_platform_taxid\n",
      "Dropping Series_sample_taxid\n",
      "Dropping Series_relation\n",
      "Converting Sample_characteristics_ch1\n"
     ]
    }
   ],
   "source": [
    "#data organization/reformatting of GSE63990_series_matrix.txt \n",
    "\n",
    "#returns characteristics = X\n",
    "        #expression = Y\n",
    "        # 'non-infectious illness': 0, 'bacterial': 1, 'viral': 2\n",
    "\n",
    "#call on data_cleaner to open and formate GSE63990_series_matrix\n",
    "data = dclean.clean_GSE_series_matrix('GSE63990_series_matrix.txt')\n",
    "# X_train, Y_train, X_test, Y_test = gs.select(data, 10)\n",
    "\n"
   ]
  },
  {
   "cell_type": "code",
   "execution_count": 3,
   "metadata": {},
   "outputs": [],
   "source": [
    "def round_param(parameters):\n",
    "    #rounding to nearest integer doesn't work\n",
    "    #round to 1 decimal place does work\n",
    "    W1=np.round(parameters['W1'],1)\n",
    "    W2=np.round(parameters['W2'],1)\n",
    "    b1=np.round(parameters['b1'],1)\n",
    "    b2=np.round(parameters['b2'],1)   \n",
    "    \n",
    "    parameters = {\"W1\": W1,\n",
    "                  \"b1\": b1,\n",
    "                  \"W2\": W2,\n",
    "                  \"b2\": b2}\n",
    "    \n",
    "    return(parameters)"
   ]
  },
  {
   "cell_type": "code",
   "execution_count": 6,
   "metadata": {
    "scrolled": true
   },
   "outputs": [
    {
     "name": "stderr",
     "output_type": "stream",
     "text": [
      "/home/ray/.local/lib/python3.7/site-packages/sklearn/preprocessing/_encoders.py:415: FutureWarning: The handling of integer data will change in version 0.22. Currently, the categories are determined based on the range [0, max(values)], while in the future they will be determined based on the unique values.\n",
      "If you want the future behaviour and silence this warning, you can specify \"categories='auto'\".\n",
      "In case you used a LabelEncoder before this OneHotEncoder to convert the categories to integers, then you can now use the OneHotEncoder directly.\n",
      "  warnings.warn(msg, FutureWarning)\n"
     ]
    },
    {
     "name": "stdout",
     "output_type": "stream",
     "text": [
      "                           Gene      Score\n",
      "22239  AFFX-HUMRGE/M10098_5_at\"  62.413376\n",
      "with 1 gene(s)\n",
      "random seed: 30\n",
      "Accuracy for 8 hidden units: 78.57142857142857 %\n",
      "with 1 gene(s)\n",
      "random seed: 43\n",
      "Accuracy for 9 hidden units: 78.57142857142857 %\n",
      "with 1 gene(s)\n",
      "random seed: 52\n",
      "Accuracy for 5 hidden units: 78.57142857142857 %\n"
     ]
    },
    {
     "name": "stderr",
     "output_type": "stream",
     "text": [
      "/home/ray/.local/lib/python3.7/site-packages/sklearn/preprocessing/_encoders.py:415: FutureWarning: The handling of integer data will change in version 0.22. Currently, the categories are determined based on the range [0, max(values)], while in the future they will be determined based on the unique values.\n",
      "If you want the future behaviour and silence this warning, you can specify \"categories='auto'\".\n",
      "In case you used a LabelEncoder before this OneHotEncoder to convert the categories to integers, then you can now use the OneHotEncoder directly.\n",
      "  warnings.warn(msg, FutureWarning)\n"
     ]
    },
    {
     "name": "stdout",
     "output_type": "stream",
     "text": [
      "                           Gene      Score\n",
      "22239  AFFX-HUMRGE/M10098_5_at\"  62.413376\n",
      "6852                 207329_at\"  51.908816\n",
      "with 2 gene(s)\n",
      "random seed: 5\n",
      "Accuracy for 8 hidden units: 78.57142857142857 %\n",
      "with 2 gene(s)\n",
      "random seed: 8\n",
      "Accuracy for 8 hidden units: 78.57142857142857 %\n",
      "with 2 gene(s)\n",
      "random seed: 17\n",
      "Accuracy for 8 hidden units: 78.57142857142857 %\n",
      "with 2 gene(s)\n",
      "random seed: 38\n",
      "Accuracy for 5 hidden units: 78.57142857142857 %\n",
      "with 2 gene(s)\n",
      "random seed: 38\n",
      "Accuracy for 9 hidden units: 78.57142857142857 %\n",
      "with 2 gene(s)\n",
      "random seed: 42\n",
      "Accuracy for 5 hidden units: 78.57142857142857 %\n",
      "with 2 gene(s)\n",
      "random seed: 49\n",
      "Accuracy for 9 hidden units: 78.57142857142857 %\n",
      "with 2 gene(s)\n",
      "random seed: 55\n",
      "Accuracy for 7 hidden units: 78.57142857142857 %\n",
      "with 2 gene(s)\n",
      "random seed: 82\n",
      "Accuracy for 7 hidden units: 78.57142857142857 %\n",
      "with 2 gene(s)\n",
      "random seed: 89\n",
      "Accuracy for 8 hidden units: 78.57142857142857 %\n"
     ]
    },
    {
     "name": "stderr",
     "output_type": "stream",
     "text": [
      "/home/ray/.local/lib/python3.7/site-packages/sklearn/preprocessing/_encoders.py:415: FutureWarning: The handling of integer data will change in version 0.22. Currently, the categories are determined based on the range [0, max(values)], while in the future they will be determined based on the unique values.\n",
      "If you want the future behaviour and silence this warning, you can specify \"categories='auto'\".\n",
      "In case you used a LabelEncoder before this OneHotEncoder to convert the categories to integers, then you can now use the OneHotEncoder directly.\n",
      "  warnings.warn(msg, FutureWarning)\n"
     ]
    },
    {
     "name": "stdout",
     "output_type": "stream",
     "text": [
      "                           Gene      Score\n",
      "22239  AFFX-HUMRGE/M10098_5_at\"  62.413376\n",
      "6852                 207329_at\"  51.908816\n",
      "21443              222084_s_at\"  45.796933\n",
      "with 3 gene(s)\n",
      "random seed: 41\n",
      "Accuracy for 7 hidden units: 78.57142857142857 %\n",
      "with 3 gene(s)\n",
      "random seed: 77\n",
      "Accuracy for 8 hidden units: 78.57142857142857 %\n"
     ]
    },
    {
     "name": "stderr",
     "output_type": "stream",
     "text": [
      "/home/ray/.local/lib/python3.7/site-packages/sklearn/preprocessing/_encoders.py:415: FutureWarning: The handling of integer data will change in version 0.22. Currently, the categories are determined based on the range [0, max(values)], while in the future they will be determined based on the unique values.\n",
      "If you want the future behaviour and silence this warning, you can specify \"categories='auto'\".\n",
      "In case you used a LabelEncoder before this OneHotEncoder to convert the categories to integers, then you can now use the OneHotEncoder directly.\n",
      "  warnings.warn(msg, FutureWarning)\n"
     ]
    },
    {
     "name": "stdout",
     "output_type": "stream",
     "text": [
      "                           Gene      Score\n",
      "22239  AFFX-HUMRGE/M10098_5_at\"  62.413376\n",
      "6852                 207329_at\"  51.908816\n",
      "21443              222084_s_at\"  45.796933\n",
      "12152              212768_s_at\"  45.511495\n",
      "with 4 gene(s)\n",
      "random seed: 14\n",
      "Accuracy for 5 hidden units: 78.57142857142857 %\n"
     ]
    },
    {
     "name": "stderr",
     "output_type": "stream",
     "text": [
      "/home/ray/.local/lib/python3.7/site-packages/sklearn/preprocessing/_encoders.py:415: FutureWarning: The handling of integer data will change in version 0.22. Currently, the categories are determined based on the range [0, max(values)], while in the future they will be determined based on the unique values.\n",
      "If you want the future behaviour and silence this warning, you can specify \"categories='auto'\".\n",
      "In case you used a LabelEncoder before this OneHotEncoder to convert the categories to integers, then you can now use the OneHotEncoder directly.\n",
      "  warnings.warn(msg, FutureWarning)\n"
     ]
    },
    {
     "name": "stdout",
     "output_type": "stream",
     "text": [
      "                           Gene      Score\n",
      "22239  AFFX-HUMRGE/M10098_5_at\"  62.413376\n",
      "6852                 207329_at\"  51.908816\n",
      "21443              222084_s_at\"  45.796933\n",
      "12152              212768_s_at\"  45.511495\n",
      "10952              211548_s_at\"  39.885743\n",
      "with 5 gene(s)\n",
      "random seed: 30\n",
      "Accuracy for 6 hidden units: 78.57142857142857 %\n",
      "with 5 gene(s)\n",
      "random seed: 72\n",
      "Accuracy for 4 hidden units: 78.57142857142857 %\n"
     ]
    },
    {
     "name": "stderr",
     "output_type": "stream",
     "text": [
      "/home/ray/.local/lib/python3.7/site-packages/sklearn/preprocessing/_encoders.py:415: FutureWarning: The handling of integer data will change in version 0.22. Currently, the categories are determined based on the range [0, max(values)], while in the future they will be determined based on the unique values.\n",
      "If you want the future behaviour and silence this warning, you can specify \"categories='auto'\".\n",
      "In case you used a LabelEncoder before this OneHotEncoder to convert the categories to integers, then you can now use the OneHotEncoder directly.\n",
      "  warnings.warn(msg, FutureWarning)\n"
     ]
    },
    {
     "name": "stdout",
     "output_type": "stream",
     "text": [
      "                           Gene      Score\n",
      "22239  AFFX-HUMRGE/M10098_5_at\"  62.413376\n",
      "6852                 207329_at\"  51.908816\n",
      "21443              222084_s_at\"  45.796933\n",
      "12152              212768_s_at\"  45.511495\n",
      "10952              211548_s_at\"  39.885743\n",
      "3439               203913_s_at\"  39.213689\n",
      "with 6 gene(s)\n",
      "random seed: 45\n",
      "Accuracy for 9 hidden units: 78.57142857142857 %\n",
      "with 6 gene(s)\n",
      "random seed: 56\n",
      "Accuracy for 8 hidden units: 78.57142857142857 %\n"
     ]
    },
    {
     "name": "stderr",
     "output_type": "stream",
     "text": [
      "/home/ray/.local/lib/python3.7/site-packages/sklearn/preprocessing/_encoders.py:415: FutureWarning: The handling of integer data will change in version 0.22. Currently, the categories are determined based on the range [0, max(values)], while in the future they will be determined based on the unique values.\n",
      "If you want the future behaviour and silence this warning, you can specify \"categories='auto'\".\n",
      "In case you used a LabelEncoder before this OneHotEncoder to convert the categories to integers, then you can now use the OneHotEncoder directly.\n",
      "  warnings.warn(msg, FutureWarning)\n"
     ]
    },
    {
     "name": "stdout",
     "output_type": "stream",
     "text": [
      "                           Gene      Score\n",
      "22239  AFFX-HUMRGE/M10098_5_at\"  62.413376\n",
      "6852                 207329_at\"  51.908816\n",
      "21443              222084_s_at\"  45.796933\n",
      "12152              212768_s_at\"  45.511495\n",
      "10952              211548_s_at\"  39.885743\n",
      "3439               203913_s_at\"  39.213689\n",
      "19338              219975_x_at\"  38.786768\n",
      "with 7 gene(s)\n",
      "random seed: 19\n",
      "Accuracy for 7 hidden units: 78.57142857142857 %\n",
      "with 7 gene(s)\n",
      "random seed: 85\n",
      "Accuracy for 6 hidden units: 78.57142857142857 %\n"
     ]
    },
    {
     "name": "stderr",
     "output_type": "stream",
     "text": [
      "/home/ray/.local/lib/python3.7/site-packages/sklearn/preprocessing/_encoders.py:415: FutureWarning: The handling of integer data will change in version 0.22. Currently, the categories are determined based on the range [0, max(values)], while in the future they will be determined based on the unique values.\n",
      "If you want the future behaviour and silence this warning, you can specify \"categories='auto'\".\n",
      "In case you used a LabelEncoder before this OneHotEncoder to convert the categories to integers, then you can now use the OneHotEncoder directly.\n",
      "  warnings.warn(msg, FutureWarning)\n"
     ]
    },
    {
     "name": "stdout",
     "output_type": "stream",
     "text": [
      "                           Gene      Score\n",
      "22239  AFFX-HUMRGE/M10098_5_at\"  62.413376\n",
      "6852                 207329_at\"  51.908816\n",
      "21443              222084_s_at\"  45.796933\n",
      "12152              212768_s_at\"  45.511495\n",
      "10952              211548_s_at\"  39.885743\n",
      "3439               203913_s_at\"  39.213689\n",
      "19338              219975_x_at\"  38.786768\n",
      "9477                 209992_at\"  36.792002\n",
      "with 8 gene(s)\n",
      "random seed: 4\n",
      "Accuracy for 4 hidden units: 78.57142857142857 %\n",
      "with 8 gene(s)\n",
      "random seed: 4\n",
      "Accuracy for 9 hidden units: 78.57142857142857 %\n",
      "with 8 gene(s)\n",
      "random seed: 17\n",
      "Accuracy for 7 hidden units: 78.57142857142857 %\n",
      "with 8 gene(s)\n",
      "random seed: 17\n",
      "Accuracy for 9 hidden units: 82.14285714285714 %\n",
      "with 8 gene(s)\n",
      "random seed: 18\n",
      "Accuracy for 5 hidden units: 78.57142857142857 %\n",
      "with 8 gene(s)\n",
      "random seed: 40\n",
      "Accuracy for 8 hidden units: 78.57142857142857 %\n",
      "with 8 gene(s)\n",
      "random seed: 46\n",
      "Accuracy for 2 hidden units: 78.57142857142857 %\n",
      "with 8 gene(s)\n",
      "random seed: 46\n",
      "Accuracy for 3 hidden units: 78.57142857142857 %\n",
      "with 8 gene(s)\n",
      "random seed: 51\n",
      "Accuracy for 5 hidden units: 78.57142857142857 %\n",
      "with 8 gene(s)\n",
      "random seed: 55\n",
      "Accuracy for 6 hidden units: 78.57142857142857 %\n",
      "with 8 gene(s)\n",
      "random seed: 55\n",
      "Accuracy for 7 hidden units: 78.57142857142857 %\n",
      "with 8 gene(s)\n",
      "random seed: 55\n",
      "Accuracy for 8 hidden units: 78.57142857142857 %\n",
      "with 8 gene(s)\n",
      "random seed: 80\n",
      "Accuracy for 1 hidden units: 78.57142857142857 %\n",
      "with 8 gene(s)\n",
      "random seed: 82\n",
      "Accuracy for 1 hidden units: 78.57142857142857 %\n",
      "with 8 gene(s)\n",
      "random seed: 82\n",
      "Accuracy for 3 hidden units: 78.57142857142857 %\n",
      "with 8 gene(s)\n",
      "random seed: 83\n",
      "Accuracy for 7 hidden units: 78.57142857142857 %\n",
      "with 8 gene(s)\n",
      "random seed: 86\n",
      "Accuracy for 4 hidden units: 78.57142857142857 %\n",
      "with 8 gene(s)\n",
      "random seed: 88\n",
      "Accuracy for 8 hidden units: 82.14285714285714 %\n",
      "with 8 gene(s)\n",
      "random seed: 92\n",
      "Accuracy for 4 hidden units: 78.57142857142857 %\n",
      "with 8 gene(s)\n",
      "random seed: 95\n",
      "Accuracy for 5 hidden units: 78.57142857142857 %\n",
      "with 8 gene(s)\n",
      "random seed: 95\n",
      "Accuracy for 6 hidden units: 78.57142857142857 %\n",
      "with 8 gene(s)\n",
      "random seed: 98\n",
      "Accuracy for 4 hidden units: 78.57142857142857 %\n",
      "with 8 gene(s)\n",
      "random seed: 98\n",
      "Accuracy for 7 hidden units: 78.57142857142857 %\n"
     ]
    },
    {
     "name": "stderr",
     "output_type": "stream",
     "text": [
      "/home/ray/.local/lib/python3.7/site-packages/sklearn/preprocessing/_encoders.py:415: FutureWarning: The handling of integer data will change in version 0.22. Currently, the categories are determined based on the range [0, max(values)], while in the future they will be determined based on the unique values.\n",
      "If you want the future behaviour and silence this warning, you can specify \"categories='auto'\".\n",
      "In case you used a LabelEncoder before this OneHotEncoder to convert the categories to integers, then you can now use the OneHotEncoder directly.\n",
      "  warnings.warn(msg, FutureWarning)\n"
     ]
    },
    {
     "name": "stdout",
     "output_type": "stream",
     "text": [
      "                           Gene      Score\n",
      "22239  AFFX-HUMRGE/M10098_5_at\"  62.413376\n",
      "6852                 207329_at\"  51.908816\n",
      "21443              222084_s_at\"  45.796933\n",
      "12152              212768_s_at\"  45.511495\n",
      "10952              211548_s_at\"  39.885743\n",
      "3439               203913_s_at\"  39.213689\n",
      "19338              219975_x_at\"  38.786768\n",
      "9477                 209992_at\"  36.792002\n",
      "5370                 205844_at\"  36.757702\n",
      "with 9 gene(s)\n",
      "random seed: 1\n",
      "Accuracy for 7 hidden units: 78.57142857142857 %\n",
      "with 9 gene(s)\n",
      "random seed: 3\n",
      "Accuracy for 9 hidden units: 78.57142857142857 %\n",
      "with 9 gene(s)\n",
      "random seed: 9\n",
      "Accuracy for 9 hidden units: 78.57142857142857 %\n"
     ]
    },
    {
     "name": "stderr",
     "output_type": "stream",
     "text": [
      "MLP_Clean.ipynb:18: RuntimeWarning: divide by zero encountered in log\n",
      "  \"outputs\": [],\n",
      "MLP_Clean.ipynb:18: RuntimeWarning: invalid value encountered in multiply\n",
      "  \"outputs\": [],\n"
     ]
    },
    {
     "name": "stdout",
     "output_type": "stream",
     "text": [
      "with 9 gene(s)\n",
      "random seed: 19\n",
      "Accuracy for 5 hidden units: 78.57142857142857 %\n",
      "with 9 gene(s)\n",
      "random seed: 31\n",
      "Accuracy for 9 hidden units: 78.57142857142857 %\n",
      "with 9 gene(s)\n",
      "random seed: 34\n",
      "Accuracy for 8 hidden units: 78.57142857142857 %\n",
      "with 9 gene(s)\n",
      "random seed: 36\n",
      "Accuracy for 3 hidden units: 78.57142857142857 %\n",
      "with 9 gene(s)\n",
      "random seed: 40\n",
      "Accuracy for 8 hidden units: 82.14285714285714 %\n",
      "with 9 gene(s)\n",
      "random seed: 46\n",
      "Accuracy for 8 hidden units: 78.57142857142857 %\n",
      "with 9 gene(s)\n",
      "random seed: 61\n",
      "Accuracy for 3 hidden units: 78.57142857142857 %\n",
      "with 9 gene(s)\n",
      "random seed: 61\n",
      "Accuracy for 5 hidden units: 78.57142857142857 %\n",
      "with 9 gene(s)\n",
      "random seed: 65\n",
      "Accuracy for 9 hidden units: 78.57142857142857 %\n",
      "with 9 gene(s)\n",
      "random seed: 66\n",
      "Accuracy for 4 hidden units: 78.57142857142857 %\n",
      "with 9 gene(s)\n",
      "random seed: 76\n",
      "Accuracy for 6 hidden units: 78.57142857142857 %\n",
      "with 9 gene(s)\n",
      "random seed: 92\n",
      "Accuracy for 8 hidden units: 78.57142857142857 %\n"
     ]
    },
    {
     "name": "stderr",
     "output_type": "stream",
     "text": [
      "/home/ray/.local/lib/python3.7/site-packages/sklearn/preprocessing/_encoders.py:415: FutureWarning: The handling of integer data will change in version 0.22. Currently, the categories are determined based on the range [0, max(values)], while in the future they will be determined based on the unique values.\n",
      "If you want the future behaviour and silence this warning, you can specify \"categories='auto'\".\n",
      "In case you used a LabelEncoder before this OneHotEncoder to convert the categories to integers, then you can now use the OneHotEncoder directly.\n",
      "  warnings.warn(msg, FutureWarning)\n"
     ]
    },
    {
     "name": "stdout",
     "output_type": "stream",
     "text": [
      "                           Gene      Score\n",
      "22239  AFFX-HUMRGE/M10098_5_at\"  62.413376\n",
      "6852                 207329_at\"  51.908816\n",
      "21443              222084_s_at\"  45.796933\n",
      "12152              212768_s_at\"  45.511495\n",
      "10952              211548_s_at\"  39.885743\n",
      "3439               203913_s_at\"  39.213689\n",
      "19338              219975_x_at\"  38.786768\n",
      "9477                 209992_at\"  36.792002\n",
      "5370                 205844_at\"  36.757702\n",
      "5702               206177_s_at\"  35.538623\n",
      "with 10 gene(s)\n",
      "random seed: 3\n",
      "Accuracy for 6 hidden units: 78.57142857142857 %\n"
     ]
    },
    {
     "name": "stderr",
     "output_type": "stream",
     "text": [
      "MLP_Clean.ipynb:18: RuntimeWarning: divide by zero encountered in log\n",
      "  \"outputs\": [],\n",
      "MLP_Clean.ipynb:18: RuntimeWarning: invalid value encountered in multiply\n",
      "  \"outputs\": [],\n"
     ]
    },
    {
     "name": "stdout",
     "output_type": "stream",
     "text": [
      "with 10 gene(s)\n",
      "random seed: 19\n",
      "Accuracy for 9 hidden units: 78.57142857142857 %\n",
      "with 10 gene(s)\n",
      "random seed: 28\n",
      "Accuracy for 3 hidden units: 78.57142857142857 %\n",
      "with 10 gene(s)\n",
      "random seed: 28\n",
      "Accuracy for 9 hidden units: 78.57142857142857 %\n",
      "with 10 gene(s)\n",
      "random seed: 36\n",
      "Accuracy for 5 hidden units: 78.57142857142857 %\n",
      "with 10 gene(s)\n",
      "random seed: 49\n",
      "Accuracy for 9 hidden units: 78.57142857142857 %\n",
      "with 10 gene(s)\n",
      "random seed: 52\n",
      "Accuracy for 6 hidden units: 78.57142857142857 %\n",
      "with 10 gene(s)\n",
      "random seed: 79\n",
      "Accuracy for 4 hidden units: 78.57142857142857 %\n",
      "with 10 gene(s)\n",
      "random seed: 84\n",
      "Accuracy for 7 hidden units: 78.57142857142857 %\n",
      "with 10 gene(s)\n",
      "random seed: 94\n",
      "Accuracy for 3 hidden units: 78.57142857142857 %\n"
     ]
    },
    {
     "name": "stderr",
     "output_type": "stream",
     "text": [
      "/home/ray/.local/lib/python3.7/site-packages/sklearn/preprocessing/_encoders.py:415: FutureWarning: The handling of integer data will change in version 0.22. Currently, the categories are determined based on the range [0, max(values)], while in the future they will be determined based on the unique values.\n",
      "If you want the future behaviour and silence this warning, you can specify \"categories='auto'\".\n",
      "In case you used a LabelEncoder before this OneHotEncoder to convert the categories to integers, then you can now use the OneHotEncoder directly.\n",
      "  warnings.warn(msg, FutureWarning)\n"
     ]
    },
    {
     "name": "stdout",
     "output_type": "stream",
     "text": [
      "                           Gene      Score\n",
      "22239  AFFX-HUMRGE/M10098_5_at\"  62.413376\n",
      "6852                 207329_at\"  51.908816\n",
      "21443              222084_s_at\"  45.796933\n",
      "12152              212768_s_at\"  45.511495\n",
      "10952              211548_s_at\"  39.885743\n",
      "3439               203913_s_at\"  39.213689\n",
      "19338              219975_x_at\"  38.786768\n",
      "9477                 209992_at\"  36.792002\n",
      "5370                 205844_at\"  36.757702\n",
      "5702               206177_s_at\"  35.538623\n",
      "19032                219669_at\"  35.401498\n",
      "with 11 gene(s)\n",
      "random seed: 10\n",
      "Accuracy for 5 hidden units: 78.57142857142857 %\n"
     ]
    },
    {
     "name": "stderr",
     "output_type": "stream",
     "text": [
      "MLP_Clean.ipynb:18: RuntimeWarning: divide by zero encountered in log\n",
      "  \"outputs\": [],\n",
      "MLP_Clean.ipynb:18: RuntimeWarning: invalid value encountered in multiply\n",
      "  \"outputs\": [],\n"
     ]
    },
    {
     "name": "stdout",
     "output_type": "stream",
     "text": [
      "with 11 gene(s)\n",
      "random seed: 14\n",
      "Accuracy for 9 hidden units: 78.57142857142857 %\n",
      "with 11 gene(s)\n",
      "random seed: 70\n",
      "Accuracy for 8 hidden units: 78.57142857142857 %\n",
      "with 11 gene(s)\n",
      "random seed: 78\n",
      "Accuracy for 3 hidden units: 78.57142857142857 %\n",
      "with 11 gene(s)\n",
      "random seed: 78\n",
      "Accuracy for 4 hidden units: 78.57142857142857 %\n"
     ]
    },
    {
     "name": "stderr",
     "output_type": "stream",
     "text": [
      "/home/ray/.local/lib/python3.7/site-packages/sklearn/preprocessing/_encoders.py:415: FutureWarning: The handling of integer data will change in version 0.22. Currently, the categories are determined based on the range [0, max(values)], while in the future they will be determined based on the unique values.\n",
      "If you want the future behaviour and silence this warning, you can specify \"categories='auto'\".\n",
      "In case you used a LabelEncoder before this OneHotEncoder to convert the categories to integers, then you can now use the OneHotEncoder directly.\n",
      "  warnings.warn(msg, FutureWarning)\n"
     ]
    },
    {
     "name": "stdout",
     "output_type": "stream",
     "text": [
      "                           Gene      Score\n",
      "22239  AFFX-HUMRGE/M10098_5_at\"  62.413376\n",
      "6852                 207329_at\"  51.908816\n",
      "21443              222084_s_at\"  45.796933\n",
      "12152              212768_s_at\"  45.511495\n",
      "10952              211548_s_at\"  39.885743\n",
      "3439               203913_s_at\"  39.213689\n",
      "19338              219975_x_at\"  38.786768\n",
      "9477                 209992_at\"  36.792002\n",
      "5370                 205844_at\"  36.757702\n",
      "5702               206177_s_at\"  35.538623\n",
      "19032                219669_at\"  35.401498\n",
      "3440               203914_x_at\"  35.133532\n"
     ]
    },
    {
     "name": "stderr",
     "output_type": "stream",
     "text": [
      "MLP_Clean.ipynb:18: RuntimeWarning: divide by zero encountered in log\n",
      "  \"outputs\": [],\n",
      "MLP_Clean.ipynb:18: RuntimeWarning: invalid value encountered in multiply\n",
      "  \"outputs\": [],\n"
     ]
    },
    {
     "name": "stdout",
     "output_type": "stream",
     "text": [
      "with 12 gene(s)\n",
      "random seed: 7\n",
      "Accuracy for 6 hidden units: 78.57142857142857 %\n",
      "with 12 gene(s)\n",
      "random seed: 19\n",
      "Accuracy for 7 hidden units: 78.57142857142857 %\n",
      "with 12 gene(s)\n",
      "random seed: 31\n",
      "Accuracy for 9 hidden units: 82.14285714285714 %\n",
      "with 12 gene(s)\n",
      "random seed: 34\n",
      "Accuracy for 9 hidden units: 78.57142857142857 %\n",
      "with 12 gene(s)\n",
      "random seed: 40\n",
      "Accuracy for 3 hidden units: 82.14285714285714 %\n",
      "with 12 gene(s)\n",
      "random seed: 69\n",
      "Accuracy for 3 hidden units: 78.57142857142857 %\n",
      "with 12 gene(s)\n",
      "random seed: 81\n",
      "Accuracy for 3 hidden units: 78.57142857142857 %\n"
     ]
    },
    {
     "name": "stderr",
     "output_type": "stream",
     "text": [
      "/home/ray/.local/lib/python3.7/site-packages/sklearn/preprocessing/_encoders.py:415: FutureWarning: The handling of integer data will change in version 0.22. Currently, the categories are determined based on the range [0, max(values)], while in the future they will be determined based on the unique values.\n",
      "If you want the future behaviour and silence this warning, you can specify \"categories='auto'\".\n",
      "In case you used a LabelEncoder before this OneHotEncoder to convert the categories to integers, then you can now use the OneHotEncoder directly.\n",
      "  warnings.warn(msg, FutureWarning)\n"
     ]
    },
    {
     "name": "stdout",
     "output_type": "stream",
     "text": [
      "                           Gene      Score\n",
      "22239  AFFX-HUMRGE/M10098_5_at\"  62.413376\n",
      "6852                 207329_at\"  51.908816\n",
      "21443              222084_s_at\"  45.796933\n",
      "12152              212768_s_at\"  45.511495\n",
      "10952              211548_s_at\"  39.885743\n",
      "3439               203913_s_at\"  39.213689\n",
      "19338              219975_x_at\"  38.786768\n",
      "9477                 209992_at\"  36.792002\n",
      "5370                 205844_at\"  36.757702\n",
      "5702               206177_s_at\"  35.538623\n",
      "19032                219669_at\"  35.401498\n",
      "3440               203914_x_at\"  35.133532\n",
      "8786               209293_x_at\"  34.937390\n"
     ]
    },
    {
     "name": "stderr",
     "output_type": "stream",
     "text": [
      "MLP_Clean.ipynb:18: RuntimeWarning: divide by zero encountered in log\n",
      "  \"outputs\": [],\n",
      "MLP_Clean.ipynb:18: RuntimeWarning: invalid value encountered in multiply\n",
      "  \"outputs\": [],\n"
     ]
    },
    {
     "name": "stdout",
     "output_type": "stream",
     "text": [
      "with 13 gene(s)\n",
      "random seed: 25\n",
      "Accuracy for 8 hidden units: 82.14285714285714 %\n",
      "with 13 gene(s)\n",
      "random seed: 31\n",
      "Accuracy for 9 hidden units: 78.57142857142857 %\n",
      "with 13 gene(s)\n",
      "random seed: 32\n",
      "Accuracy for 8 hidden units: 78.57142857142857 %\n",
      "with 13 gene(s)\n",
      "random seed: 99\n",
      "Accuracy for 6 hidden units: 78.57142857142857 %\n"
     ]
    },
    {
     "name": "stderr",
     "output_type": "stream",
     "text": [
      "/home/ray/.local/lib/python3.7/site-packages/sklearn/preprocessing/_encoders.py:415: FutureWarning: The handling of integer data will change in version 0.22. Currently, the categories are determined based on the range [0, max(values)], while in the future they will be determined based on the unique values.\n",
      "If you want the future behaviour and silence this warning, you can specify \"categories='auto'\".\n",
      "In case you used a LabelEncoder before this OneHotEncoder to convert the categories to integers, then you can now use the OneHotEncoder directly.\n",
      "  warnings.warn(msg, FutureWarning)\n"
     ]
    },
    {
     "name": "stdout",
     "output_type": "stream",
     "text": [
      "                           Gene      Score\n",
      "22239  AFFX-HUMRGE/M10098_5_at\"  62.413376\n",
      "6852                 207329_at\"  51.908816\n",
      "21443              222084_s_at\"  45.796933\n",
      "12152              212768_s_at\"  45.511495\n",
      "10952              211548_s_at\"  39.885743\n",
      "3439               203913_s_at\"  39.213689\n",
      "19338              219975_x_at\"  38.786768\n",
      "9477                 209992_at\"  36.792002\n",
      "5370                 205844_at\"  36.757702\n",
      "5702               206177_s_at\"  35.538623\n",
      "19032                219669_at\"  35.401498\n",
      "3440               203914_x_at\"  35.133532\n",
      "8786               209293_x_at\"  34.937390\n",
      "22240  AFFX-HUMRGE/M10098_M_at\"  34.897467\n"
     ]
    },
    {
     "name": "stderr",
     "output_type": "stream",
     "text": [
      "MLP_Clean.ipynb:18: RuntimeWarning: divide by zero encountered in log\n",
      "  \"outputs\": [],\n",
      "MLP_Clean.ipynb:18: RuntimeWarning: invalid value encountered in multiply\n",
      "  \"outputs\": [],\n"
     ]
    },
    {
     "name": "stdout",
     "output_type": "stream",
     "text": [
      "with 14 gene(s)\n",
      "random seed: 18\n",
      "Accuracy for 2 hidden units: 78.57142857142857 %\n",
      "with 14 gene(s)\n",
      "random seed: 42\n",
      "Accuracy for 2 hidden units: 78.57142857142857 %\n",
      "with 14 gene(s)\n",
      "random seed: 43\n",
      "Accuracy for 9 hidden units: 78.57142857142857 %\n"
     ]
    },
    {
     "name": "stderr",
     "output_type": "stream",
     "text": [
      "/home/ray/.local/lib/python3.7/site-packages/sklearn/preprocessing/_encoders.py:415: FutureWarning: The handling of integer data will change in version 0.22. Currently, the categories are determined based on the range [0, max(values)], while in the future they will be determined based on the unique values.\n",
      "If you want the future behaviour and silence this warning, you can specify \"categories='auto'\".\n",
      "In case you used a LabelEncoder before this OneHotEncoder to convert the categories to integers, then you can now use the OneHotEncoder directly.\n",
      "  warnings.warn(msg, FutureWarning)\n"
     ]
    },
    {
     "name": "stdout",
     "output_type": "stream",
     "text": [
      "                           Gene      Score\n",
      "22239  AFFX-HUMRGE/M10098_5_at\"  62.413376\n",
      "6852                 207329_at\"  51.908816\n",
      "21443              222084_s_at\"  45.796933\n",
      "12152              212768_s_at\"  45.511495\n",
      "10952              211548_s_at\"  39.885743\n",
      "3439               203913_s_at\"  39.213689\n",
      "19338              219975_x_at\"  38.786768\n",
      "9477                 209992_at\"  36.792002\n",
      "5370                 205844_at\"  36.757702\n",
      "5702               206177_s_at\"  35.538623\n",
      "19032                219669_at\"  35.401498\n",
      "3440               203914_x_at\"  35.133532\n",
      "8786               209293_x_at\"  34.937390\n",
      "22240  AFFX-HUMRGE/M10098_M_at\"  34.897467\n",
      "16040              216671_x_at\"  31.861675\n"
     ]
    },
    {
     "name": "stderr",
     "output_type": "stream",
     "text": [
      "MLP_Clean.ipynb:18: RuntimeWarning: divide by zero encountered in log\n",
      "  \"outputs\": [],\n",
      "MLP_Clean.ipynb:18: RuntimeWarning: invalid value encountered in multiply\n",
      "  \"outputs\": [],\n"
     ]
    },
    {
     "name": "stdout",
     "output_type": "stream",
     "text": [
      "with 15 gene(s)\n",
      "random seed: 31\n",
      "Accuracy for 9 hidden units: 78.57142857142857 %\n",
      "with 15 gene(s)\n",
      "random seed: 42\n",
      "Accuracy for 4 hidden units: 78.57142857142857 %\n",
      "with 15 gene(s)\n",
      "random seed: 42\n",
      "Accuracy for 7 hidden units: 78.57142857142857 %\n",
      "with 15 gene(s)\n",
      "random seed: 83\n",
      "Accuracy for 4 hidden units: 78.57142857142857 %\n"
     ]
    },
    {
     "name": "stderr",
     "output_type": "stream",
     "text": [
      "/home/ray/.local/lib/python3.7/site-packages/sklearn/preprocessing/_encoders.py:415: FutureWarning: The handling of integer data will change in version 0.22. Currently, the categories are determined based on the range [0, max(values)], while in the future they will be determined based on the unique values.\n",
      "If you want the future behaviour and silence this warning, you can specify \"categories='auto'\".\n",
      "In case you used a LabelEncoder before this OneHotEncoder to convert the categories to integers, then you can now use the OneHotEncoder directly.\n",
      "  warnings.warn(msg, FutureWarning)\n"
     ]
    },
    {
     "name": "stdout",
     "output_type": "stream",
     "text": [
      "                           Gene      Score\n",
      "22239  AFFX-HUMRGE/M10098_5_at\"  62.413376\n",
      "6852                 207329_at\"  51.908816\n",
      "21443              222084_s_at\"  45.796933\n",
      "12152              212768_s_at\"  45.511495\n",
      "10952              211548_s_at\"  39.885743\n",
      "3439               203913_s_at\"  39.213689\n",
      "19338              219975_x_at\"  38.786768\n",
      "9477                 209992_at\"  36.792002\n",
      "5370                 205844_at\"  36.757702\n",
      "5702               206177_s_at\"  35.538623\n",
      "19032                219669_at\"  35.401498\n",
      "3440               203914_x_at\"  35.133532\n",
      "8786               209293_x_at\"  34.937390\n",
      "22240  AFFX-HUMRGE/M10098_M_at\"  34.897467\n",
      "16040              216671_x_at\"  31.861675\n",
      "9445                 209960_at\"  28.876673\n"
     ]
    },
    {
     "name": "stderr",
     "output_type": "stream",
     "text": [
      "MLP_Clean.ipynb:18: RuntimeWarning: divide by zero encountered in log\n",
      "  \"outputs\": [],\n",
      "MLP_Clean.ipynb:18: RuntimeWarning: invalid value encountered in multiply\n",
      "  \"outputs\": [],\n"
     ]
    },
    {
     "name": "stdout",
     "output_type": "stream",
     "text": [
      "with 16 gene(s)\n",
      "random seed: 13\n",
      "Accuracy for 5 hidden units: 82.14285714285714 %\n",
      "with 16 gene(s)\n",
      "random seed: 13\n",
      "Accuracy for 8 hidden units: 78.57142857142857 %\n",
      "with 16 gene(s)\n",
      "random seed: 42\n",
      "Accuracy for 2 hidden units: 78.57142857142857 %\n",
      "with 16 gene(s)\n",
      "random seed: 54\n",
      "Accuracy for 9 hidden units: 78.57142857142857 %\n"
     ]
    },
    {
     "name": "stderr",
     "output_type": "stream",
     "text": [
      "/home/ray/.local/lib/python3.7/site-packages/sklearn/preprocessing/_encoders.py:415: FutureWarning: The handling of integer data will change in version 0.22. Currently, the categories are determined based on the range [0, max(values)], while in the future they will be determined based on the unique values.\n",
      "If you want the future behaviour and silence this warning, you can specify \"categories='auto'\".\n",
      "In case you used a LabelEncoder before this OneHotEncoder to convert the categories to integers, then you can now use the OneHotEncoder directly.\n",
      "  warnings.warn(msg, FutureWarning)\n"
     ]
    },
    {
     "name": "stdout",
     "output_type": "stream",
     "text": [
      "                           Gene      Score\n",
      "22239  AFFX-HUMRGE/M10098_5_at\"  62.413376\n",
      "6852                 207329_at\"  51.908816\n",
      "21443              222084_s_at\"  45.796933\n",
      "12152              212768_s_at\"  45.511495\n",
      "10952              211548_s_at\"  39.885743\n",
      "3439               203913_s_at\"  39.213689\n",
      "19338              219975_x_at\"  38.786768\n",
      "9477                 209992_at\"  36.792002\n",
      "5370                 205844_at\"  36.757702\n",
      "5702               206177_s_at\"  35.538623\n",
      "19032                219669_at\"  35.401498\n",
      "3440               203914_x_at\"  35.133532\n",
      "8786               209293_x_at\"  34.937390\n",
      "22240  AFFX-HUMRGE/M10098_M_at\"  34.897467\n",
      "16040              216671_x_at\"  31.861675\n",
      "9445                 209960_at\"  28.876673\n",
      "16806                217442_at\"  28.460255\n"
     ]
    },
    {
     "name": "stderr",
     "output_type": "stream",
     "text": [
      "MLP_Clean.ipynb:18: RuntimeWarning: divide by zero encountered in log\n",
      "  \"outputs\": [],\n",
      "MLP_Clean.ipynb:18: RuntimeWarning: invalid value encountered in multiply\n",
      "  \"outputs\": [],\n"
     ]
    },
    {
     "name": "stdout",
     "output_type": "stream",
     "text": [
      "with 17 gene(s)\n",
      "random seed: 27\n",
      "Accuracy for 9 hidden units: 78.57142857142857 %\n",
      "with 17 gene(s)\n",
      "random seed: 42\n",
      "Accuracy for 4 hidden units: 78.57142857142857 %\n",
      "with 17 gene(s)\n",
      "random seed: 60\n",
      "Accuracy for 8 hidden units: 78.57142857142857 %\n",
      "with 17 gene(s)\n",
      "random seed: 60\n",
      "Accuracy for 9 hidden units: 78.57142857142857 %\n",
      "with 17 gene(s)\n",
      "random seed: 78\n",
      "Accuracy for 7 hidden units: 78.57142857142857 %\n"
     ]
    },
    {
     "name": "stderr",
     "output_type": "stream",
     "text": [
      "/home/ray/.local/lib/python3.7/site-packages/sklearn/preprocessing/_encoders.py:415: FutureWarning: The handling of integer data will change in version 0.22. Currently, the categories are determined based on the range [0, max(values)], while in the future they will be determined based on the unique values.\n",
      "If you want the future behaviour and silence this warning, you can specify \"categories='auto'\".\n",
      "In case you used a LabelEncoder before this OneHotEncoder to convert the categories to integers, then you can now use the OneHotEncoder directly.\n",
      "  warnings.warn(msg, FutureWarning)\n"
     ]
    },
    {
     "name": "stdout",
     "output_type": "stream",
     "text": [
      "                           Gene      Score\n",
      "22239  AFFX-HUMRGE/M10098_5_at\"  62.413376\n",
      "6852                 207329_at\"  51.908816\n",
      "21443              222084_s_at\"  45.796933\n",
      "12152              212768_s_at\"  45.511495\n",
      "10952              211548_s_at\"  39.885743\n",
      "3439               203913_s_at\"  39.213689\n",
      "19338              219975_x_at\"  38.786768\n",
      "9477                 209992_at\"  36.792002\n",
      "5370                 205844_at\"  36.757702\n",
      "5702               206177_s_at\"  35.538623\n",
      "19032                219669_at\"  35.401498\n",
      "3440               203914_x_at\"  35.133532\n",
      "8786               209293_x_at\"  34.937390\n",
      "22240  AFFX-HUMRGE/M10098_M_at\"  34.897467\n",
      "16040              216671_x_at\"  31.861675\n",
      "9445                 209960_at\"  28.876673\n",
      "16806                217442_at\"  28.460255\n",
      "2680                 203153_at\"  27.864647\n"
     ]
    },
    {
     "name": "stderr",
     "output_type": "stream",
     "text": [
      "MLP_Clean.ipynb:18: RuntimeWarning: divide by zero encountered in log\n",
      "  \"outputs\": [],\n",
      "MLP_Clean.ipynb:18: RuntimeWarning: invalid value encountered in multiply\n",
      "  \"outputs\": [],\n"
     ]
    },
    {
     "name": "stdout",
     "output_type": "stream",
     "text": [
      "with 18 gene(s)\n",
      "random seed: 59\n",
      "Accuracy for 4 hidden units: 82.14285714285714 %\n"
     ]
    },
    {
     "name": "stderr",
     "output_type": "stream",
     "text": [
      "/home/ray/.local/lib/python3.7/site-packages/sklearn/preprocessing/_encoders.py:415: FutureWarning: The handling of integer data will change in version 0.22. Currently, the categories are determined based on the range [0, max(values)], while in the future they will be determined based on the unique values.\n",
      "If you want the future behaviour and silence this warning, you can specify \"categories='auto'\".\n",
      "In case you used a LabelEncoder before this OneHotEncoder to convert the categories to integers, then you can now use the OneHotEncoder directly.\n",
      "  warnings.warn(msg, FutureWarning)\n"
     ]
    },
    {
     "name": "stdout",
     "output_type": "stream",
     "text": [
      "                           Gene      Score\n",
      "22239  AFFX-HUMRGE/M10098_5_at\"  62.413376\n",
      "6852                 207329_at\"  51.908816\n",
      "21443              222084_s_at\"  45.796933\n",
      "12152              212768_s_at\"  45.511495\n",
      "10952              211548_s_at\"  39.885743\n",
      "3439               203913_s_at\"  39.213689\n",
      "19338              219975_x_at\"  38.786768\n",
      "9477                 209992_at\"  36.792002\n",
      "5370                 205844_at\"  36.757702\n",
      "5702               206177_s_at\"  35.538623\n",
      "19032                219669_at\"  35.401498\n",
      "3440               203914_x_at\"  35.133532\n",
      "8786               209293_x_at\"  34.937390\n",
      "22240  AFFX-HUMRGE/M10098_M_at\"  34.897467\n",
      "16040              216671_x_at\"  31.861675\n",
      "9445                 209960_at\"  28.876673\n",
      "16806                217442_at\"  28.460255\n",
      "2680                 203153_at\"  27.864647\n",
      "5975                 206450_at\"  27.230384\n"
     ]
    },
    {
     "name": "stderr",
     "output_type": "stream",
     "text": [
      "MLP_Clean.ipynb:18: RuntimeWarning: divide by zero encountered in log\n",
      "  \"outputs\": [],\n",
      "MLP_Clean.ipynb:18: RuntimeWarning: invalid value encountered in multiply\n",
      "  \"outputs\": [],\n"
     ]
    },
    {
     "name": "stdout",
     "output_type": "stream",
     "text": [
      "with 19 gene(s)\n",
      "random seed: 66\n",
      "Accuracy for 5 hidden units: 78.57142857142857 %\n",
      "with 19 gene(s)\n",
      "random seed: 66\n",
      "Accuracy for 8 hidden units: 78.57142857142857 %\n",
      "with 19 gene(s)\n",
      "random seed: 94\n",
      "Accuracy for 7 hidden units: 85.71428571428571 %\n"
     ]
    }
   ],
   "source": [
    "#find the best models without rounding\n",
    "hidden_layer_sizes = np.arange(1,10)\n",
    "seed_list = np.arange(1,100)\n",
    "gene_list = np.arange(1,20)\n",
    "for gene_number in gene_list:\n",
    "    X_train, Y_train, X_test, Y_test = gs.select(data, gene_number)\n",
    "    for seed in seed_list:\n",
    "        for n_h in hidden_layer_sizes:\n",
    "            parameters = NN.nn_model(X_train, Y_train, n_h, num_iterations = 500, seed=seed)\n",
    "            predictions = NN.predict(parameters, X_test)\n",
    "            labels = np.argmax(Y_test, axis = 0)\n",
    "            t = (labels-predictions)\n",
    "            accuracy = np.sum(np.where(t == 0, 1, 0))/Y_test.shape[1]*100\n",
    "            if accuracy > 75:\n",
    "                print (\"with {} gene(s)\".format(gene_number))\n",
    "                print (\"random seed:\", seed)\n",
    "                print (\"Accuracy for {} hidden units: {} %\".format(n_h, accuracy))\n",
    "                parameters"
   ]
  },
  {
   "cell_type": "code",
   "execution_count": 15,
   "metadata": {
    "scrolled": false
   },
   "outputs": [
    {
     "name": "stderr",
     "output_type": "stream",
     "text": [
      "/home/ray/.local/lib/python3.7/site-packages/sklearn/preprocessing/_encoders.py:415: FutureWarning: The handling of integer data will change in version 0.22. Currently, the categories are determined based on the range [0, max(values)], while in the future they will be determined based on the unique values.\n",
      "If you want the future behaviour and silence this warning, you can specify \"categories='auto'\".\n",
      "In case you used a LabelEncoder before this OneHotEncoder to convert the categories to integers, then you can now use the OneHotEncoder directly.\n",
      "  warnings.warn(msg, FutureWarning)\n"
     ]
    },
    {
     "name": "stdout",
     "output_type": "stream",
     "text": [
      "                           Gene      Score\n",
      "22239  AFFX-HUMRGE/M10098_5_at\"  62.413376\n",
      "6852                 207329_at\"  51.908816\n",
      "21443              222084_s_at\"  45.796933\n",
      "12152              212768_s_at\"  45.511495\n",
      "10952              211548_s_at\"  39.885743\n",
      "3439               203913_s_at\"  39.213689\n",
      "19338              219975_x_at\"  38.786768\n",
      "9477                 209992_at\"  36.792002\n",
      "5370                 205844_at\"  36.757702\n",
      "5702               206177_s_at\"  35.538623\n",
      "19032                219669_at\"  35.401498\n",
      "3440               203914_x_at\"  35.133532\n",
      "8786               209293_x_at\"  34.937390\n",
      "22240  AFFX-HUMRGE/M10098_M_at\"  34.897467\n",
      "16040              216671_x_at\"  31.861675\n",
      "9445                 209960_at\"  28.876673\n",
      "16806                217442_at\"  28.460255\n",
      "2680                 203153_at\"  27.864647\n",
      "5975                 206450_at\"  27.230384\n",
      "Cost after iteration 0: 2545.174208\n",
      "82.14285714285714 %\n"
     ]
    }
   ],
   "source": [
    "# try select models with rounding\n",
    "randomseed = 94\n",
    "number_hidden = 7\n",
    "gene_number = 19\n",
    "\n",
    "X_train, Y_train, X_test, Y_test = gs.select(data, gene_number, score_func = 'chi2')\n",
    "parameters = NN.nn_model(X_train, Y_train, n_h = number_hidden, num_iterations = 500, print_cost=True, seed=randomseed)\n",
    "parameters = round_param(parameters)\n",
    "predictions = NN.predict(parameters, X_test)\n",
    "labels = np.argmax(Y_test, axis = 0)\n",
    "t = (labels-predictions)      \n",
    "accuracy = np.sum(np.where(t == 0, 1, 0))/Y_test.shape[1]*100\n",
    "print(accuracy,'%')"
   ]
  },
  {
   "cell_type": "code",
   "execution_count": 16,
   "metadata": {
    "scrolled": true
   },
   "outputs": [
    {
     "name": "stdout",
     "output_type": "stream",
     "text": [
      "[[ 0.1  1.3 -1.   1.4 -2.4 -1.2 -1.3 -0.1 -0.2  0.2 -0.3  0.  -1.   0.9\n",
      "   0.6 -0.9 -0.1 -0.2 -0.2]\n",
      " [-0.5 -1.1  1.1  0.2 -0.6 -0.4  0.   0.4 -1.  -0.3  1.1 -0.9  0.7 -1.4\n",
      "  -0.1  0.5 -0.3  0.3 -0.2]\n",
      " [-1.   0.2  1.4 -1.2  0.3 -0.3  0.2 -0.2 -0.1  0.1 -1.1  0.3 -2.6 -2.8\n",
      "   1.  -1.6 -1.  -0.5  0.3]\n",
      " [ 0.9  0.4  1.4 -1.8 -0.3  2.  -0.6 -2.3 -1.6 -0.9  1.   1.2  0.   0.3\n",
      "   0.3 -0.3 -2.  -0.2 -0.3]\n",
      " [-0.5 -1.3  1.4 -0.1  1.   0.7 -0.4 -0.7 -0.4 -0.1 -0.4  0.3 -0.2 -0.4\n",
      "  -0.3 -0.4  0.1  1.7 -0.1]\n",
      " [-0.4 -0.3  0.7 -0.1  0.4 -0.9 -0.2 -0.6  0.5  0.1 -0.1 -0.  -0.4 -1.\n",
      "   1.   0.5 -0.9  0.1  0.4]\n",
      " [-0.6  1.1  1.2  0.3  0.4 -1.4 -0.1 -0.3 -1.3  1.7 -0.  -0.3  0.1 -0.4\n",
      "  -2.3 -0.1 -0.5 -0.9 -0.1]]\n"
     ]
    }
   ],
   "source": [
    "print(parameters['W1'])"
   ]
  },
  {
   "cell_type": "code",
   "execution_count": null,
   "metadata": {},
   "outputs": [],
   "source": []
  }
 ],
 "metadata": {
  "kernelspec": {
   "display_name": "Python 3",
   "language": "python",
   "name": "python3"
  },
  "language_info": {
   "codemirror_mode": {
    "name": "ipython",
    "version": 3
   },
   "file_extension": ".py",
   "mimetype": "text/x-python",
   "name": "python",
   "nbconvert_exporter": "python",
   "pygments_lexer": "ipython3",
   "version": "3.7.4"
  }
 },
 "nbformat": 4,
 "nbformat_minor": 2
}
